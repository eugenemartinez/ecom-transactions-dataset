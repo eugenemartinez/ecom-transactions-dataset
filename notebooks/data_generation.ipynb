{
 "cells": [
  {
   "cell_type": "code",
   "execution_count": 6,
   "metadata": {},
   "outputs": [
    {
     "name": "stdout",
     "output_type": "stream",
     "text": [
      "✅ Dataset generated successfully! Saved at '/Users/yowhenyow/Documents/Codes/ecom-transactions-dataset/data/ecom_transactions.csv'\n"
     ]
    }
   ],
   "source": [
    "import os\n",
    "import pandas as pd\n",
    "import numpy as np\n",
    "import random\n",
    "from faker import Faker\n",
    "\n",
    "# Define the path to the \"data\" folder (one level up from \"notebooks\")\n",
    "data_folder = os.path.join(os.path.dirname(os.getcwd()), \"data\")\n",
    "\n",
    "# Ensure the \"data\" folder exists\n",
    "os.makedirs(data_folder, exist_ok=True)\n",
    "\n",
    "# Initialize Faker instance\n",
    "fake = Faker()\n",
    "\n",
    "# Define number of rows\n",
    "num_rows = 1000\n",
    "\n",
    "# Define probabilities for shipping status to reduce \"Cancelled\" orders\n",
    "shipping_status_choices = [\"Shipped\", \"Pending\", \"Delivered\", \"Cancelled\"]\n",
    "shipping_status_probs = [0.35, 0.30, 0.30, 0.05]  # Lowered \"Cancelled\" to 5%\n",
    "\n",
    "# Generate dataset\n",
    "data = {\n",
    "    \"Transaction ID\": [fake.uuid4() for _ in range(num_rows)],\n",
    "    \"Customer ID\": [fake.uuid4() for _ in range(num_rows)],\n",
    "    \"Transaction Date\": [fake.date_between(start_date=\"-2y\", end_date=\"today\") for _ in range(num_rows)],\n",
    "    \"Product Category\": [random.choice([\"Electronics\", \"Clothing\", \"Home & Kitchen\", \"Sports\", \"Books\"]) for _ in range(num_rows)],\n",
    "    \"Price\": [round(random.uniform(5, 500), 2) for _ in range(num_rows)],\n",
    "    \"Quantity\": [random.randint(1, 5) for _ in range(num_rows)],\n",
    "    \"Payment Method\": [random.choice([\"Credit Card\", \"Debit Card\", \"PayPal\", \"Gift Card\", \"Crypto\"]) for _ in range(num_rows)],\n",
    "    \"Shipping Status\": np.random.choice(shipping_status_choices, size=num_rows, p=shipping_status_probs),\n",
    "    \"Customer Rating\": [random.choice([1, 2, 3, 4, 5, np.nan]) for _ in range(num_rows)]\n",
    "}\n",
    "\n",
    "# Convert to DataFrame\n",
    "df = pd.DataFrame(data)\n",
    "\n",
    "# Introduce missing values in some columns\n",
    "for col in [\"Price\", \"Quantity\", \"Payment Method\", \"Customer Rating\"]:\n",
    "    df.loc[df.sample(frac=0.05).index, col] = np.nan  # 5% missing data\n",
    "\n",
    "# Cast Price column to object to handle mixed types\n",
    "df[\"Price\"] = df[\"Price\"].astype(object)\n",
    "\n",
    "# Introduce data errors\n",
    "for row in df.sample(frac=0.02).index:  # 2% erroneous data\n",
    "    df.at[row, \"Price\"] = \"ERROR\"  # Inject string in numeric field\n",
    "\n",
    "# Save the dataset in the \"data\" folder\n",
    "file_path = os.path.join(data_folder, \"ecom_transactions.csv\")\n",
    "df.to_csv(file_path, index=False)\n",
    "\n",
    "print(f\"✅ Dataset generated successfully! Saved at '{file_path}'\")"
   ]
  }
 ],
 "metadata": {
  "kernelspec": {
   "display_name": "Python (Conda)",
   "language": "python",
   "name": "base"
  },
  "language_info": {
   "codemirror_mode": {
    "name": "ipython",
    "version": 3
   },
   "file_extension": ".py",
   "mimetype": "text/x-python",
   "name": "python",
   "nbconvert_exporter": "python",
   "pygments_lexer": "ipython3",
   "version": "3.12.7"
  }
 },
 "nbformat": 4,
 "nbformat_minor": 2
}
