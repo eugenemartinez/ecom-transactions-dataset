{
 "cells": [
  {
   "cell_type": "code",
   "execution_count": 1,
   "metadata": {},
   "outputs": [
    {
     "name": "stdout",
     "output_type": "stream",
     "text": [
      "Dataset generated successfully!\n"
     ]
    },
    {
     "name": "stderr",
     "output_type": "stream",
     "text": [
      "/var/folders/ww/jysllgqx66x8fwr9qty6pyt00000gn/T/ipykernel_83380/2432605548.py:53: FutureWarning: Setting an item of incompatible dtype is deprecated and will raise an error in a future version of pandas. Value 'ERROR' has dtype incompatible with float64, please explicitly cast to a compatible dtype first.\n",
      "  df.at[row, \"Price\"] = \"ERROR\"  # Inject string in numeric field\n"
     ]
    }
   ],
   "source": [
    "import pandas as pd\n",
    "import numpy as np\n",
    "import random\n",
    "from faker import Faker\n",
    "\n",
    "# Initialize Faker instance\n",
    "fake = Faker()\n",
    "\n",
    "# Define number of rows\n",
    "num_rows = 1000\n",
    "\n",
    "# Generate dataset\n",
    "data = {\n",
    "    \"Transaction ID\": [fake.uuid4() for _ in range(num_rows)],\n",
    "    \"Customer ID\": [fake.uuid4() for _ in range(num_rows)],\n",
    "    \"Transaction Date\": [fake.date_between(start_date=\"-2y\", end_date=\"today\") for _ in range(num_rows)],\n",
    "    \"Product Category\": [random.choice([\"Electronics\", \"Clothing\", \"Home & Kitchen\", \"Sports\", \"Books\"]) for _ in range(num_rows)],\n",
    "    \"Price\": [round(random.uniform(5, 500), 2) for _ in range(num_rows)],\n",
    "    \"Quantity\": [random.randint(1, 5) for _ in range(num_rows)],\n",
    "    \"Payment Method\": [random.choice([\"Credit Card\", \"Debit Card\", \"PayPal\", \"Gift Card\", \"Crypto\"]) for _ in range(num_rows)],\n",
    "    \"Shipping Status\": [random.choice([\"Shipped\", \"Pending\", \"Delivered\", \"Cancelled\"]) for _ in range(num_rows)],\n",
    "    \"Customer Rating\": [random.choice([1, 2, 3, 4, 5, np.nan]) for _ in range(num_rows)]\n",
    "}\n",
    "\n",
    "# Convert to DataFrame\n",
    "df = pd.DataFrame(data)\n",
    "\n",
    "# Introduce missing values in some columns\n",
    "for col in [\"Price\", \"Quantity\", \"Payment Method\", \"Customer Rating\"]:\n",
    "    df.loc[df.sample(frac=0.05).index, col] = np.nan  # 5% missing data\n",
    "\n",
    "# Cast Price column to object to handle mixed types\n",
    "df[\"Price\"] = df[\"Price\"].astype(object)\n",
    "\n",
    "# Introduce data errors\n",
    "for row in df.sample(frac=0.02).index:  # 2% erroneous data\n",
    "    df.at[row, \"Price\"] = \"ERROR\"  # Inject string in numeric field\n",
    "\n",
    "df.to_csv(\"ecom_transactions.csv\", index=False)\n",
    "\n",
    "print(\"Dataset generated successfully!\")"
   ]
  }
 ],
 "metadata": {
  "kernelspec": {
   "display_name": "Python 3 (ipykernel)",
   "language": "python",
   "name": "python3"
  },
  "language_info": {
   "codemirror_mode": {
    "name": "ipython",
    "version": 3
   },
   "file_extension": ".py",
   "mimetype": "text/x-python",
   "name": "python",
   "nbconvert_exporter": "python",
   "pygments_lexer": "ipython3",
   "version": "3.12.7"
  }
 },
 "nbformat": 4,
 "nbformat_minor": 4
}
